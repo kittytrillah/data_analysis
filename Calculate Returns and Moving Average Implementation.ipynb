{
 "cells": [
  {
   "cell_type": "code",
   "execution_count": 1,
   "id": "03c56297",
   "metadata": {},
   "outputs": [],
   "source": [
    "import pandas as pd\n",
    "import yfinance as yf\n",
    "import numpy as np\n",
    "import matplotlib.pyplot as plt"
   ]
  },
  {
   "cell_type": "code",
   "execution_count": 2,
   "id": "90722343",
   "metadata": {},
   "outputs": [],
   "source": [
    "def calculate_returns(prices: pd.Series, periods: int = 1) -> pd.Series:\n",
    "    \"\"\"\n",
    "    Calculate returns over a specified number of periods.\n",
    "\n",
    "    Parameters:\n",
    "        prices (pd.Series): Series of prices.\n",
    "        periods (int): Number of periods for return calculation.\n",
    "\n",
    "    Returns:\n",
    "        pd.Series: Series of returns.\n",
    "    \"\"\"\n",
    "    \n",
    "    returns = prices.pct_change(periods=periods)\n",
    "    \n",
    "    return returns"
   ]
  },
  {
   "cell_type": "code",
   "execution_count": 3,
   "id": "ad2e0d16",
   "metadata": {},
   "outputs": [],
   "source": [
    "def calculate_moving_average(prices: pd.Series, window: int) -> pd.Series:\n",
    "    \"\"\"\n",
    "    Calculate moving averages over a specified window size.\n",
    "\n",
    "    Parameters:\n",
    "        prices (pd.Series): Series of prices.\n",
    "        window (int): Window size for the moving average.\n",
    "\n",
    "    Returns:\n",
    "        pd.Series: Series of moving averages.\n",
    "    \"\"\"\n",
    "    \n",
    "    moving_average = prices.rolling(window=window).mean()\n",
    "    \n",
    "    return moving_average\n"
   ]
  },
  {
   "cell_type": "markdown",
   "id": "0e2f2d4d",
   "metadata": {},
   "source": [
    "### Usage Example"
   ]
  },
  {
   "cell_type": "code",
   "execution_count": 4,
   "id": "2e30d84b",
   "metadata": {},
   "outputs": [
    {
     "name": "stderr",
     "output_type": "stream",
     "text": [
      "[*********************100%%**********************]  1 of 1 completed\n"
     ]
    }
   ],
   "source": [
    "# Let´s consider again the APPLE Stock Prices:\n",
    "\n",
    "apple_data = yf.download('AAPL', start='2020-01-01', end='2023-01-01')\n",
    "apple_close = apple_data['Close'].dropna()  # only take the close price"
   ]
  },
  {
   "cell_type": "code",
   "execution_count": 5,
   "id": "e2212934",
   "metadata": {},
   "outputs": [
    {
     "data": {
      "text/plain": [
       "Date\n",
       "2020-01-02         NaN\n",
       "2020-01-03   -0.009722\n",
       "2020-01-06    0.007968\n",
       "2020-01-07   -0.004703\n",
       "2020-01-08    0.016086\n",
       "Name: Close, dtype: float64"
      ]
     },
     "execution_count": 5,
     "metadata": {},
     "output_type": "execute_result"
    }
   ],
   "source": [
    "daily_returns = calculate_returns(apple_close)\n",
    "daily_returns.head()"
   ]
  },
  {
   "cell_type": "code",
   "execution_count": 6,
   "id": "1fece081",
   "metadata": {},
   "outputs": [
    {
     "data": {
      "text/plain": [
       "Date\n",
       "2020-01-02         NaN\n",
       "2020-01-03         NaN\n",
       "2020-01-06         NaN\n",
       "2020-01-07         NaN\n",
       "2020-01-08         NaN\n",
       "                ...   \n",
       "2022-12-23   -0.003840\n",
       "2022-12-27   -0.003434\n",
       "2022-12-28   -0.009465\n",
       "2022-12-29   -0.008562\n",
       "2022-12-30   -0.003314\n",
       "Name: Close, Length: 756, dtype: float64"
      ]
     },
     "execution_count": 6,
     "metadata": {},
     "output_type": "execute_result"
    }
   ],
   "source": [
    "# And to calculate moving average of the returns for a window of 5:\n",
    "\n",
    "ma_5 = calculate_moving_average(daily_returns, window=5)\n",
    "ma_5"
   ]
  }
 ],
 "metadata": {
  "kernelspec": {
   "display_name": "Python 3 (ipykernel)",
   "language": "python",
   "name": "python3"
  },
  "language_info": {
   "codemirror_mode": {
    "name": "ipython",
    "version": 3
   },
   "file_extension": ".py",
   "mimetype": "text/x-python",
   "name": "python",
   "nbconvert_exporter": "python",
   "pygments_lexer": "ipython3",
   "version": "3.9.18"
  }
 },
 "nbformat": 4,
 "nbformat_minor": 5
}
